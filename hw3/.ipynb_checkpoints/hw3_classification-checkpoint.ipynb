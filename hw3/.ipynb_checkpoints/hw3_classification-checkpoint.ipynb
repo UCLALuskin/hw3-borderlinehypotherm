{
 "cells": [
  {
   "cell_type": "markdown",
   "id": "ddcce680",
   "metadata": {
    "deletable": false,
    "editable": false,
    "nbgrader": {
     "cell_type": "markdown",
     "checksum": "e6cb8f042ebb7b7bbab256434910ef60",
     "grade": false,
     "grade_id": "cell-b1217afff8bc58c2",
     "locked": true,
     "schema_version": 3,
     "solution": false,
     "task": false
    }
   },
   "source": [
    "## Homework 3: Machine learning\n",
    "\n",
    "In this assignment, we'll practice the classification skills from machine learning. We'll use the precinct-level voting data to predict support for Prop 21 (rent control) on the 2020 ballot. For example, we might expect the share of renters to be an important predictor.\n",
    "\n",
    "We'll also review joins as we prepare the data.\n",
    "\n",
    "Start by loading the 2020 elections results from LA County into a `pandas` dataframe, `voteDf`. (This is exactly the same data as we will use next week in the clustering lectures; I put another copy of the data file in the assignment GitHub folder to make things easier.)\n",
    "\n",
    "### Policy on ChatGPT / AI\n",
    "\n",
    "This is the same as in HWs 1 and 2. Please review those guidelines."
   ]
  },
  {
   "cell_type": "markdown",
   "id": "58ce9f07",
   "metadata": {
    "deletable": false,
    "editable": false,
    "nbgrader": {
     "cell_type": "markdown",
     "checksum": "43e87542bbd93eba65b63d1df946b8b1",
     "grade": false,
     "grade_id": "cell-c4f721042cd05425",
     "locked": true,
     "schema_version": 3,
     "solution": false,
     "task": false
    }
   },
   "source": [
    "Please help me grade by observing the following:\n",
    " \n",
    "* Do not rename this notebook (that messes up the autograder)\n",
    "* Do not include large sections of output (that makes it hard to find your code). For example, use `df.head()` to show the first few rows, rather than printing an entire dataframe. The same goes for printing long strings."
   ]
  },
  {
   "cell_type": "markdown",
   "id": "f083750e-0eea-47b0-b000-1d636398c010",
   "metadata": {},
   "source": [
    "**Name:** Will Callan"
   ]
  },
  {
   "cell_type": "code",
   "execution_count": 41,
   "id": "9f4f8fa1",
   "metadata": {
    "deletable": false,
    "nbgrader": {
     "cell_type": "code",
     "checksum": "30347d5ed1e8164b2c06eb48609ba2cc",
     "grade": false,
     "grade_id": "cell-2ff091f01ca8b647",
     "locked": false,
     "schema_version": 3,
     "solution": true,
     "task": false
    }
   },
   "outputs": [
    {
     "name": "stdout",
     "output_type": "stream",
     "text": [
      "4313\n",
      "   county    srprec  addist  cddist  sddist  bedist  TOTREG  DEMREG  REPREG  \\\n",
      "0      19  0050005A      36      25      21       1    1974       0       0   \n",
      "1      19  0050014A      36      25      21       1     697       0       0   \n",
      "2      19  0050022A      36      27      25       1      61       0       0   \n",
      "3      19  0050024A      41      27      25       1       0       0       0   \n",
      "4      19  0050025A      36      25      25       1       5       0       0   \n",
      "\n",
      "   AIPREG  ...  PR_23_Y  PR_24_N  PR_24_Y  PR_25_N  PR_25_Y  SENAIP01  \\\n",
      "0       0  ...      430      945      771     1304      398         0   \n",
      "1       0  ...      100      314      223      427      116         0   \n",
      "2       0  ...       10       27       22       35       15         0   \n",
      "3       0  ...        0        0        0        0        0         0   \n",
      "4       0  ...        1        2        3        1        3         0   \n",
      "\n",
      "   SENDEM01  SENDEM02  SENLIB01  SENREP01  \n",
      "0       524         0         0      1197  \n",
      "1       163         0         0       373  \n",
      "2        20         0         0        33  \n",
      "3         0         0         0         0  \n",
      "4         2         0         0         3  \n",
      "\n",
      "[5 rows x 73 columns]\n"
     ]
    }
   ],
   "source": [
    "import pandas as pd\n",
    "\n",
    "results = pd.read_csv('c037_g20_sov_data_by_g20_srprec.csv')\n",
    "voteDf = pd.DataFrame(results)\n",
    "\n",
    "print(len(voteDf))\n",
    "print(voteDf.head())"
   ]
  },
  {
   "cell_type": "code",
   "execution_count": 42,
   "id": "d55c4df1",
   "metadata": {
    "deletable": false,
    "editable": false,
    "nbgrader": {
     "cell_type": "code",
     "checksum": "0cb332b1f272ab5349b67d3bf2b76c41",
     "grade": true,
     "grade_id": "cell-82c4c318b68ac93b",
     "locked": true,
     "points": 1,
     "schema_version": 3,
     "solution": false,
     "task": false
    }
   },
   "outputs": [],
   "source": [
    "# Autograding tests - do not edit\n",
    "assert len(voteDf) == 4313\n",
    "assert isinstance(voteDf, pd.DataFrame)"
   ]
  },
  {
   "cell_type": "markdown",
   "id": "4c4ff214",
   "metadata": {
    "deletable": false,
    "editable": false,
    "nbgrader": {
     "cell_type": "markdown",
     "checksum": "7f70f7dbb484fc1f79771108c7bc0002",
     "grade": false,
     "grade_id": "cell-8e73935274cd6bac",
     "locked": true,
     "schema_version": 3,
     "solution": false,
     "task": false
    }
   },
   "source": [
    "To do some prediction, we'll want to add variables from (say) the census or other sources.\n",
    "For that, we need the lookup file that matches precincts to census blocks and tracts. [You can find it here](https://statewidedatabase.org/d10/g20_geo_conv.html), or just use the file `c037_g20_sr_blk_map.csv` in your GitHub repository. (Note that there are several types of precincts; the ones that we are using here are called `srprec`.) \n",
    "\n",
    "Each precinct intersects with many census blocks. The `pctsrprec` column tells you how much of the precinct lies within that block. For example, in the first few rows of `c037_g20_sr_blk_map.csv`, you'll see 49 different rows for precinct `0050003A`, each matching to a different census block, with the `pctsrprec` column adding up to 100.\n",
    "\n",
    "Our aim is to create a new dataframe with the vote counts (for all of the propositions and other races) aggregated to census tract. This is a multi-stage process, so let's do this step by step.\n",
    "\n",
    "In this step, you should:\n",
    "- load in the lookup data into a new dataframe, `lookupDf`\n",
    "- join the voting dataframe to the lookup dataframe using `srprec`, to create a new dataframe called `joinDf`. This is a 1:many join, since there are many census blocks per precinct. Do an inner join, as the Null values are not going to be useful to us. (In other words, throw away any lookups that don't match a precinct.)\n",
    "- make sure that `srprec` is the index"
   ]
  },
  {
   "cell_type": "code",
   "execution_count": 43,
   "id": "5c06e292-57ee-4a38-993a-f979624a8ae7",
   "metadata": {},
   "outputs": [
    {
     "data": {
      "text/html": [
       "<div>\n",
       "<style scoped>\n",
       "    .dataframe tbody tr th:only-of-type {\n",
       "        vertical-align: middle;\n",
       "    }\n",
       "\n",
       "    .dataframe tbody tr th {\n",
       "        vertical-align: top;\n",
       "    }\n",
       "\n",
       "    .dataframe thead th {\n",
       "        text-align: right;\n",
       "    }\n",
       "</style>\n",
       "<table border=\"1\" class=\"dataframe\">\n",
       "  <thead>\n",
       "    <tr style=\"text-align: right;\">\n",
       "      <th></th>\n",
       "      <th>county</th>\n",
       "      <th>srprec</th>\n",
       "      <th>addist</th>\n",
       "      <th>cddist</th>\n",
       "      <th>sddist</th>\n",
       "      <th>bedist</th>\n",
       "      <th>TOTREG</th>\n",
       "      <th>DEMREG</th>\n",
       "      <th>REPREG</th>\n",
       "      <th>AIPREG</th>\n",
       "      <th>...</th>\n",
       "      <th>PR_23_Y</th>\n",
       "      <th>PR_24_N</th>\n",
       "      <th>PR_24_Y</th>\n",
       "      <th>PR_25_N</th>\n",
       "      <th>PR_25_Y</th>\n",
       "      <th>SENAIP01</th>\n",
       "      <th>SENDEM01</th>\n",
       "      <th>SENDEM02</th>\n",
       "      <th>SENLIB01</th>\n",
       "      <th>SENREP01</th>\n",
       "    </tr>\n",
       "  </thead>\n",
       "  <tbody>\n",
       "    <tr>\n",
       "      <th>0</th>\n",
       "      <td>19</td>\n",
       "      <td>0050005A</td>\n",
       "      <td>36</td>\n",
       "      <td>25</td>\n",
       "      <td>21</td>\n",
       "      <td>1</td>\n",
       "      <td>1974</td>\n",
       "      <td>0</td>\n",
       "      <td>0</td>\n",
       "      <td>0</td>\n",
       "      <td>...</td>\n",
       "      <td>430</td>\n",
       "      <td>945</td>\n",
       "      <td>771</td>\n",
       "      <td>1304</td>\n",
       "      <td>398</td>\n",
       "      <td>0</td>\n",
       "      <td>524</td>\n",
       "      <td>0</td>\n",
       "      <td>0</td>\n",
       "      <td>1197</td>\n",
       "    </tr>\n",
       "    <tr>\n",
       "      <th>1</th>\n",
       "      <td>19</td>\n",
       "      <td>0050014A</td>\n",
       "      <td>36</td>\n",
       "      <td>25</td>\n",
       "      <td>21</td>\n",
       "      <td>1</td>\n",
       "      <td>697</td>\n",
       "      <td>0</td>\n",
       "      <td>0</td>\n",
       "      <td>0</td>\n",
       "      <td>...</td>\n",
       "      <td>100</td>\n",
       "      <td>314</td>\n",
       "      <td>223</td>\n",
       "      <td>427</td>\n",
       "      <td>116</td>\n",
       "      <td>0</td>\n",
       "      <td>163</td>\n",
       "      <td>0</td>\n",
       "      <td>0</td>\n",
       "      <td>373</td>\n",
       "    </tr>\n",
       "    <tr>\n",
       "      <th>2</th>\n",
       "      <td>19</td>\n",
       "      <td>0050022A</td>\n",
       "      <td>36</td>\n",
       "      <td>27</td>\n",
       "      <td>25</td>\n",
       "      <td>1</td>\n",
       "      <td>61</td>\n",
       "      <td>0</td>\n",
       "      <td>0</td>\n",
       "      <td>0</td>\n",
       "      <td>...</td>\n",
       "      <td>10</td>\n",
       "      <td>27</td>\n",
       "      <td>22</td>\n",
       "      <td>35</td>\n",
       "      <td>15</td>\n",
       "      <td>0</td>\n",
       "      <td>20</td>\n",
       "      <td>0</td>\n",
       "      <td>0</td>\n",
       "      <td>33</td>\n",
       "    </tr>\n",
       "    <tr>\n",
       "      <th>3</th>\n",
       "      <td>19</td>\n",
       "      <td>0050024A</td>\n",
       "      <td>41</td>\n",
       "      <td>27</td>\n",
       "      <td>25</td>\n",
       "      <td>1</td>\n",
       "      <td>0</td>\n",
       "      <td>0</td>\n",
       "      <td>0</td>\n",
       "      <td>0</td>\n",
       "      <td>...</td>\n",
       "      <td>0</td>\n",
       "      <td>0</td>\n",
       "      <td>0</td>\n",
       "      <td>0</td>\n",
       "      <td>0</td>\n",
       "      <td>0</td>\n",
       "      <td>0</td>\n",
       "      <td>0</td>\n",
       "      <td>0</td>\n",
       "      <td>0</td>\n",
       "    </tr>\n",
       "    <tr>\n",
       "      <th>4</th>\n",
       "      <td>19</td>\n",
       "      <td>0050025A</td>\n",
       "      <td>36</td>\n",
       "      <td>25</td>\n",
       "      <td>25</td>\n",
       "      <td>1</td>\n",
       "      <td>5</td>\n",
       "      <td>0</td>\n",
       "      <td>0</td>\n",
       "      <td>0</td>\n",
       "      <td>...</td>\n",
       "      <td>1</td>\n",
       "      <td>2</td>\n",
       "      <td>3</td>\n",
       "      <td>1</td>\n",
       "      <td>3</td>\n",
       "      <td>0</td>\n",
       "      <td>2</td>\n",
       "      <td>0</td>\n",
       "      <td>0</td>\n",
       "      <td>3</td>\n",
       "    </tr>\n",
       "  </tbody>\n",
       "</table>\n",
       "<p>5 rows × 73 columns</p>\n",
       "</div>"
      ],
      "text/plain": [
       "   county    srprec  addist  cddist  sddist  bedist  TOTREG  DEMREG  REPREG  \\\n",
       "0      19  0050005A      36      25      21       1    1974       0       0   \n",
       "1      19  0050014A      36      25      21       1     697       0       0   \n",
       "2      19  0050022A      36      27      25       1      61       0       0   \n",
       "3      19  0050024A      41      27      25       1       0       0       0   \n",
       "4      19  0050025A      36      25      25       1       5       0       0   \n",
       "\n",
       "   AIPREG  ...  PR_23_Y  PR_24_N  PR_24_Y  PR_25_N  PR_25_Y  SENAIP01  \\\n",
       "0       0  ...      430      945      771     1304      398         0   \n",
       "1       0  ...      100      314      223      427      116         0   \n",
       "2       0  ...       10       27       22       35       15         0   \n",
       "3       0  ...        0        0        0        0        0         0   \n",
       "4       0  ...        1        2        3        1        3         0   \n",
       "\n",
       "   SENDEM01  SENDEM02  SENLIB01  SENREP01  \n",
       "0       524         0         0      1197  \n",
       "1       163         0         0       373  \n",
       "2        20         0         0        33  \n",
       "3         0         0         0         0  \n",
       "4         2         0         0         3  \n",
       "\n",
       "[5 rows x 73 columns]"
      ]
     },
     "execution_count": 43,
     "metadata": {},
     "output_type": "execute_result"
    }
   ],
   "source": [
    "voteDf.head()"
   ]
  },
  {
   "cell_type": "code",
   "execution_count": 44,
   "id": "82282498",
   "metadata": {
    "deletable": false,
    "nbgrader": {
     "cell_type": "code",
     "checksum": "175587793ace31f97af20b41f50d9ae4",
     "grade": false,
     "grade_id": "cell-c7ed8bd92abd47eh",
     "locked": false,
     "schema_version": 3,
     "solution": true,
     "task": false
    }
   },
   "outputs": [
    {
     "data": {
      "text/html": [
       "<div>\n",
       "<style scoped>\n",
       "    .dataframe tbody tr th:only-of-type {\n",
       "        vertical-align: middle;\n",
       "    }\n",
       "\n",
       "    .dataframe tbody tr th {\n",
       "        vertical-align: top;\n",
       "    }\n",
       "\n",
       "    .dataframe thead th {\n",
       "        text-align: right;\n",
       "    }\n",
       "</style>\n",
       "<table border=\"1\" class=\"dataframe\">\n",
       "  <thead>\n",
       "    <tr style=\"text-align: right;\">\n",
       "      <th></th>\n",
       "      <th>srprec</th>\n",
       "      <th>tract</th>\n",
       "      <th>block</th>\n",
       "      <th>blkreg</th>\n",
       "      <th>srtotreg</th>\n",
       "      <th>pctsrprec</th>\n",
       "      <th>blktotreg</th>\n",
       "      <th>pctblk</th>\n",
       "    </tr>\n",
       "  </thead>\n",
       "  <tbody>\n",
       "    <tr>\n",
       "      <th>0</th>\n",
       "      <td>NaN</td>\n",
       "      <td>0</td>\n",
       "      <td>0</td>\n",
       "      <td>152</td>\n",
       "      <td>NaN</td>\n",
       "      <td>NaN</td>\n",
       "      <td>152</td>\n",
       "      <td>100.0</td>\n",
       "    </tr>\n",
       "    <tr>\n",
       "      <th>1</th>\n",
       "      <td>0050005A</td>\n",
       "      <td>910804</td>\n",
       "      <td>1220</td>\n",
       "      <td>2</td>\n",
       "      <td>1998.0</td>\n",
       "      <td>0.100100</td>\n",
       "      <td>2</td>\n",
       "      <td>100.0</td>\n",
       "    </tr>\n",
       "    <tr>\n",
       "      <th>2</th>\n",
       "      <td>0050005A</td>\n",
       "      <td>910805</td>\n",
       "      <td>1000</td>\n",
       "      <td>8</td>\n",
       "      <td>1998.0</td>\n",
       "      <td>0.400400</td>\n",
       "      <td>8</td>\n",
       "      <td>100.0</td>\n",
       "    </tr>\n",
       "    <tr>\n",
       "      <th>3</th>\n",
       "      <td>0050005A</td>\n",
       "      <td>910805</td>\n",
       "      <td>1001</td>\n",
       "      <td>30</td>\n",
       "      <td>1998.0</td>\n",
       "      <td>1.501502</td>\n",
       "      <td>30</td>\n",
       "      <td>100.0</td>\n",
       "    </tr>\n",
       "    <tr>\n",
       "      <th>4</th>\n",
       "      <td>0050005A</td>\n",
       "      <td>910805</td>\n",
       "      <td>1002</td>\n",
       "      <td>38</td>\n",
       "      <td>1998.0</td>\n",
       "      <td>1.901902</td>\n",
       "      <td>38</td>\n",
       "      <td>100.0</td>\n",
       "    </tr>\n",
       "  </tbody>\n",
       "</table>\n",
       "</div>"
      ],
      "text/plain": [
       "     srprec   tract  block  blkreg  srtotreg  pctsrprec  blktotreg  pctblk\n",
       "0       NaN       0      0     152       NaN        NaN        152   100.0\n",
       "1  0050005A  910804   1220       2    1998.0   0.100100          2   100.0\n",
       "2  0050005A  910805   1000       8    1998.0   0.400400          8   100.0\n",
       "3  0050005A  910805   1001      30    1998.0   1.501502         30   100.0\n",
       "4  0050005A  910805   1002      38    1998.0   1.901902         38   100.0"
      ]
     },
     "execution_count": 44,
     "metadata": {},
     "output_type": "execute_result"
    }
   ],
   "source": [
    "lookup = pd.read_csv('c037_g20_sr_blk_map.csv')\n",
    "lookupDf = pd.DataFrame(lookup)\n",
    "lookupDf.head()"
   ]
  },
  {
   "cell_type": "code",
   "execution_count": 45,
   "id": "a9d59ca1-8ca3-4de8-accf-07ef5d788317",
   "metadata": {},
   "outputs": [
    {
     "name": "stdout",
     "output_type": "stream",
     "text": [
      "object\n",
      "object\n"
     ]
    }
   ],
   "source": [
    "print(voteDf['srprec'].dtypes)\n",
    "print(lookupDf['srprec'].dtypes)"
   ]
  },
  {
   "cell_type": "code",
   "execution_count": 46,
   "id": "71575a32-7ec8-4b92-b26e-988dea4cf890",
   "metadata": {},
   "outputs": [],
   "source": [
    "# I didn't expect to have to do this (I thought I could use the 'on' parameter in the join),\n",
    "# but I was getting this error: ValueError: You are trying to merge on object and int64 columns,\n",
    "# even though both srprec values were objects.\n",
    "voteDf.set_index('srprec', inplace=True)\n",
    "lookupDf.set_index('srprec', inplace=True)"
   ]
  },
  {
   "cell_type": "code",
   "execution_count": 47,
   "id": "41777482-5edf-4cb2-88dc-04a9561cfb3d",
   "metadata": {},
   "outputs": [],
   "source": [
    "joinDf = voteDf.join(lookupDf, how='inner')"
   ]
  },
  {
   "cell_type": "code",
   "execution_count": 48,
   "id": "2a3f2f2f",
   "metadata": {
    "deletable": false,
    "editable": false,
    "nbgrader": {
     "cell_type": "code",
     "checksum": "147f4a825287b7695a6d4d319621502d",
     "grade": true,
     "grade_id": "cell-286dda81152bd482",
     "locked": true,
     "points": 1,
     "schema_version": 3,
     "solution": false,
     "task": false
    }
   },
   "outputs": [
    {
     "name": "stdout",
     "output_type": "stream",
     "text": [
      "77704\n",
      "77703\n",
      "77703\n",
      "168427815\n"
     ]
    }
   ],
   "source": [
    "print(len(lookupDf))\n",
    "print(len(joinDf))\n",
    "print(joinDf.county.count())\n",
    "print(joinDf.TOTREG.sum())\n",
    "assert joinDf.index.name=='srprec'\n",
    "assert len(lookupDf)==77704\n",
    "assert len(joinDf)==77703\n",
    "assert joinDf.county.count()==77703\n",
    "assert joinDf.TOTREG.sum()==168427815"
   ]
  },
  {
   "cell_type": "markdown",
   "id": "6befe423",
   "metadata": {
    "deletable": false,
    "editable": false,
    "nbgrader": {
     "cell_type": "markdown",
     "checksum": "117929222e3f611a729351cee5825c39",
     "grade": false,
     "grade_id": "cell-7bcea0e4d8ff0da9",
     "locked": true,
     "schema_version": 3,
     "solution": false,
     "task": false
    }
   },
   "source": [
    "Now let's calculate vote shares on Prop 21 and in the presidential race for each census tract. \n",
    "\n",
    "This is slightly tricky, because your data frame `joinDf` will have multiple rows per tract (because the precinct geography does not match the census geography). For example, the following code shows you which precincts intersect with tract 119342. \n",
    "\n",
    "13.65% of the first precinct listed, `9004204A`, is in tract 119342."
   ]
  },
  {
   "cell_type": "code",
   "execution_count": 49,
   "id": "15750cae",
   "metadata": {
    "deletable": false,
    "editable": false,
    "nbgrader": {
     "cell_type": "code",
     "checksum": "b06c7452a13ccb2821cff6520a639b38",
     "grade": false,
     "grade_id": "cell-64a15291025f017a",
     "locked": true,
     "schema_version": 3,
     "solution": false,
     "task": false
    }
   },
   "outputs": [
    {
     "data": {
      "text/html": [
       "<div>\n",
       "<style scoped>\n",
       "    .dataframe tbody tr th:only-of-type {\n",
       "        vertical-align: middle;\n",
       "    }\n",
       "\n",
       "    .dataframe tbody tr th {\n",
       "        vertical-align: top;\n",
       "    }\n",
       "\n",
       "    .dataframe thead th {\n",
       "        text-align: right;\n",
       "    }\n",
       "</style>\n",
       "<table border=\"1\" class=\"dataframe\">\n",
       "  <thead>\n",
       "    <tr style=\"text-align: right;\">\n",
       "      <th></th>\n",
       "      <th>tract</th>\n",
       "      <th>pctsrprec</th>\n",
       "    </tr>\n",
       "    <tr>\n",
       "      <th>srprec</th>\n",
       "      <th></th>\n",
       "      <th></th>\n",
       "    </tr>\n",
       "  </thead>\n",
       "  <tbody>\n",
       "    <tr>\n",
       "      <th>9004204A</th>\n",
       "      <td>119342</td>\n",
       "      <td>13.653137</td>\n",
       "    </tr>\n",
       "    <tr>\n",
       "      <th>9000576A</th>\n",
       "      <td>119342</td>\n",
       "      <td>22.065955</td>\n",
       "    </tr>\n",
       "    <tr>\n",
       "      <th>9000576A</th>\n",
       "      <td>119342</td>\n",
       "      <td>25.412221</td>\n",
       "    </tr>\n",
       "    <tr>\n",
       "      <th>9000576A</th>\n",
       "      <td>119342</td>\n",
       "      <td>0.533463</td>\n",
       "    </tr>\n",
       "  </tbody>\n",
       "</table>\n",
       "</div>"
      ],
      "text/plain": [
       "           tract  pctsrprec\n",
       "srprec                     \n",
       "9004204A  119342  13.653137\n",
       "9000576A  119342  22.065955\n",
       "9000576A  119342  25.412221\n",
       "9000576A  119342   0.533463"
      ]
     },
     "execution_count": 49,
     "metadata": {},
     "output_type": "execute_result"
    }
   ],
   "source": [
    "joinDf[joinDf.tract==119342][['tract','pctsrprec']].sort_index(ascending=False)"
   ]
  },
  {
   "cell_type": "markdown",
   "id": "a7067641",
   "metadata": {
    "deletable": false,
    "editable": false,
    "nbgrader": {
     "cell_type": "markdown",
     "checksum": "6ed88626d5f19d730a72451bb6d4b0fd",
     "grade": false,
     "grade_id": "cell-929fd94be63a3489",
     "locked": true,
     "schema_version": 3,
     "solution": false,
     "task": false
    }
   },
   "source": [
    "So to aggregate to tracts, you should:\n",
    "- for each relevant column, multiply the number of votes by `pctsrprec`, and divide by 100 (because `pctsrprec` is a percentage, not a fraction)\n",
    "- group by census tract and sum those relevant columns, to create a new dataframe called `tractVotes`. It should have columns `PR_21_N`, `PR_21_Y`, `PRSDEM01`, `PRSREP01`, etc.\n",
    "\n",
    "This will give us our estimate of votes at the tract level.\n",
    "\n",
    "*Hint*: You can pass multiple columns to `groupby`. E.g. `df.groupby('groupcol')[['col1','col2','col3']].sum()`"
   ]
  },
  {
   "cell_type": "code",
   "execution_count": 10,
   "id": "0b1d18d0-0de3-45e5-9e14-a6c052aad365",
   "metadata": {},
   "outputs": [],
   "source": [
    "# clean up -- make for loop\n",
    "#joinDf['PR_21_N'] = joinDf.PR_21_N * joinDf.pctsrprec / 100\n",
    "#joinDf['PR_21_Y'] = joinDf.PR_21_Y * joinDf.pctsrprec / 100\n",
    "#joinDf['PRSAIP01'] = joinDf.PRSAIP01 * joinDf.pctsrprec / 100\n",
    "#joinDf['PRSDEM01'] = joinDf.PRSDEM01 * joinDf.pctsrprec / 100\n",
    "#joinDf['PRSGRN01'] = joinDf.PRSGRN01 * joinDf.pctsrprec / 100\n",
    "#joinDf['PRSLIB01'] = joinDf.PRSLIB01 * joinDf.pctsrprec / 100\n",
    "#joinDf['PRSPAF01'] = joinDf.PRSPAF01 * joinDf.pctsrprec / 100\n",
    "#joinDf['PRSREP01'] = joinDf.PRSREP01 * joinDf.pctsrprec / 100"
   ]
  },
  {
   "cell_type": "code",
   "execution_count": 11,
   "id": "c25472e4-d964-49a0-a593-c3125580afbd",
   "metadata": {},
   "outputs": [],
   "source": [
    "# to see column names; now commented-out\n",
    "# voteDf.info()"
   ]
  },
  {
   "cell_type": "code",
   "execution_count": 50,
   "id": "f3d77819",
   "metadata": {
    "deletable": false,
    "nbgrader": {
     "cell_type": "code",
     "checksum": "bf5ab9300c3d2259add243d0bbe32ab5",
     "grade": false,
     "grade_id": "cell-863ef266d322296a",
     "locked": false,
     "schema_version": 3,
     "solution": true,
     "task": false
    }
   },
   "outputs": [
    {
     "data": {
      "text/html": [
       "<div>\n",
       "<style scoped>\n",
       "    .dataframe tbody tr th:only-of-type {\n",
       "        vertical-align: middle;\n",
       "    }\n",
       "\n",
       "    .dataframe tbody tr th {\n",
       "        vertical-align: top;\n",
       "    }\n",
       "\n",
       "    .dataframe thead th {\n",
       "        text-align: right;\n",
       "    }\n",
       "</style>\n",
       "<table border=\"1\" class=\"dataframe\">\n",
       "  <thead>\n",
       "    <tr style=\"text-align: right;\">\n",
       "      <th></th>\n",
       "      <th>PR_21_N</th>\n",
       "      <th>PR_21_Y</th>\n",
       "      <th>PRSAIP01</th>\n",
       "      <th>PRSDEM01</th>\n",
       "      <th>PRSGRN01</th>\n",
       "      <th>PRSLIB01</th>\n",
       "      <th>PRSPAF01</th>\n",
       "      <th>PRSREP01</th>\n",
       "    </tr>\n",
       "    <tr>\n",
       "      <th>tract</th>\n",
       "      <th></th>\n",
       "      <th></th>\n",
       "      <th></th>\n",
       "      <th></th>\n",
       "      <th></th>\n",
       "      <th></th>\n",
       "      <th></th>\n",
       "      <th></th>\n",
       "    </tr>\n",
       "  </thead>\n",
       "  <tbody>\n",
       "    <tr>\n",
       "      <th>101110</th>\n",
       "      <td>1024.227956</td>\n",
       "      <td>857.734445</td>\n",
       "      <td>7.766703</td>\n",
       "      <td>1090.712262</td>\n",
       "      <td>6.868405</td>\n",
       "      <td>19.856228</td>\n",
       "      <td>5.053018</td>\n",
       "      <td>895.321045</td>\n",
       "    </tr>\n",
       "    <tr>\n",
       "      <th>101122</th>\n",
       "      <td>1138.460030</td>\n",
       "      <td>747.218978</td>\n",
       "      <td>6.449905</td>\n",
       "      <td>1057.143636</td>\n",
       "      <td>9.852175</td>\n",
       "      <td>21.009857</td>\n",
       "      <td>4.237346</td>\n",
       "      <td>896.821118</td>\n",
       "    </tr>\n",
       "    <tr>\n",
       "      <th>101210</th>\n",
       "      <td>714.308221</td>\n",
       "      <td>849.445489</td>\n",
       "      <td>15.399696</td>\n",
       "      <td>949.817716</td>\n",
       "      <td>7.915160</td>\n",
       "      <td>15.681777</td>\n",
       "      <td>6.831097</td>\n",
       "      <td>723.604530</td>\n",
       "    </tr>\n",
       "    <tr>\n",
       "      <th>101220</th>\n",
       "      <td>761.014272</td>\n",
       "      <td>528.747773</td>\n",
       "      <td>10.215807</td>\n",
       "      <td>747.489059</td>\n",
       "      <td>5.496622</td>\n",
       "      <td>13.538143</td>\n",
       "      <td>2.821920</td>\n",
       "      <td>604.907175</td>\n",
       "    </tr>\n",
       "    <tr>\n",
       "      <th>101300</th>\n",
       "      <td>1218.104598</td>\n",
       "      <td>796.031104</td>\n",
       "      <td>15.420898</td>\n",
       "      <td>1159.946654</td>\n",
       "      <td>8.251537</td>\n",
       "      <td>21.535832</td>\n",
       "      <td>3.829465</td>\n",
       "      <td>948.800765</td>\n",
       "    </tr>\n",
       "  </tbody>\n",
       "</table>\n",
       "</div>"
      ],
      "text/plain": [
       "            PR_21_N     PR_21_Y   PRSAIP01     PRSDEM01  PRSGRN01   PRSLIB01  \\\n",
       "tract                                                                          \n",
       "101110  1024.227956  857.734445   7.766703  1090.712262  6.868405  19.856228   \n",
       "101122  1138.460030  747.218978   6.449905  1057.143636  9.852175  21.009857   \n",
       "101210   714.308221  849.445489  15.399696   949.817716  7.915160  15.681777   \n",
       "101220   761.014272  528.747773  10.215807   747.489059  5.496622  13.538143   \n",
       "101300  1218.104598  796.031104  15.420898  1159.946654  8.251537  21.535832   \n",
       "\n",
       "        PRSPAF01    PRSREP01  \n",
       "tract                         \n",
       "101110  5.053018  895.321045  \n",
       "101122  4.237346  896.821118  \n",
       "101210  6.831097  723.604530  \n",
       "101220  2.821920  604.907175  \n",
       "101300  3.829465  948.800765  "
      ]
     },
     "execution_count": 50,
     "metadata": {},
     "output_type": "execute_result"
    }
   ],
   "source": [
    "voteCols = ['PR_21_N', 'PR_21_Y', 'PRSAIP01', 'PRSDEM01', 'PRSGRN01', 'PRSLIB01', 'PRSPAF01','PRSREP01']\n",
    "\n",
    "for col in voteCols:\n",
    "    joinDf[col] = joinDf[col] * joinDf.pctsrprec / 100\n",
    "    \n",
    "tractVotes = joinDf.groupby('tract')[voteCols].sum()\n",
    "tractVotes.head()"
   ]
  },
  {
   "cell_type": "code",
   "execution_count": 51,
   "id": "6a8c0926",
   "metadata": {
    "deletable": false,
    "editable": false,
    "nbgrader": {
     "cell_type": "code",
     "checksum": "c2879397fb6221fd24945a2607e48277",
     "grade": true,
     "grade_id": "cell-d616b48580427e62",
     "locked": true,
     "points": 1,
     "schema_version": 3,
     "solution": false,
     "task": false
    }
   },
   "outputs": [
    {
     "name": "stdout",
     "output_type": "stream",
     "text": [
      "2338\n",
      "2021486.9997128805\n"
     ]
    }
   ],
   "source": [
    "print(len(tractVotes))\n",
    "print(tractVotes.PR_21_Y.sum())\n",
    "\n",
    "# Autograding tests - do not edit\n",
    "assert len(tractVotes)==2338\n",
    "assert tractVotes.PR_21_Y.sum().round() == 2021487"
   ]
  },
  {
   "cell_type": "markdown",
   "id": "69cbec5b",
   "metadata": {
    "deletable": false,
    "editable": false,
    "nbgrader": {
     "cell_type": "markdown",
     "checksum": "bac4104c9191b477355b658354b517b3",
     "grade": false,
     "grade_id": "cell-5d1fa0f9a1e656b7",
     "locked": true,
     "schema_version": 3,
     "solution": false,
     "task": false
    }
   },
   "source": [
    "Now let's get a dataframe of some relevant census variables, using the Census Bureau API. Check back to the Week 1 example and the first homework.\n",
    "\n",
    "Create a dataframe, `censusDf`, with ACS 2019 (5 year) tract-level data for LA County, and variables for Tenure (B25003_001E, B25003_002E, B25003_003E) and median household income (B19013_001E). Add a column with the percent of renters, called `pct_renter`.\n",
    "\n",
    "Rename the median HH income column `median_hh_income`, which is more meaningful.\n",
    "\n",
    "Why use ACS 2019 rather than a more recent vintage? Well, the census tract boundaries change after each decennial census (i.e., in 2020), and the precinct-to-tract files we used above map to the pre-2020 census boundaries.\n",
    "\n",
    "As a reminder, here's the Census API [list of tables](https://api.census.gov/data/2019/acs/acs5/variables.html), and [here are examples that you can adapt](https://api.census.gov/data/2019/acs/acs5/examples.html). \n",
    "\n",
    "*Hint:* Make sure to restrict your data request by state AND county if you want to keep it to a manageable size! You shouldn't need to request an API key for a small number of queries..\n",
    "\n",
    "*Hint:* Look at your data if you get the wrong answer to median income! For example, use `censusDf.describe()`, or `censusDf.sort_values(by='med_hh_income').head()`. You might need to replace some values with `np.nan`."
   ]
  },
  {
   "cell_type": "code",
   "execution_count": 52,
   "id": "dc14a19a-0146-4615-9472-aee291a69f4a",
   "metadata": {},
   "outputs": [
    {
     "name": "stdout",
     "output_type": "stream",
     "text": [
      "True\n"
     ]
    }
   ],
   "source": [
    "import requests\n",
    "import json\n",
    "import numpy as np\n",
    "\n",
    "url = 'https://api.census.gov/data/2019/acs/acs5?get=NAME,B25003_001E,B25003_002E,B25003_003E,B19013_001E&for=tract:*&in=county:037&in=state:06'\n",
    "r = requests.get(url)\n",
    "print(r.ok)"
   ]
  },
  {
   "cell_type": "code",
   "execution_count": 53,
   "id": "23123c11-d5ee-46f6-b994-512a02c49f5a",
   "metadata": {},
   "outputs": [
    {
     "data": {
      "text/plain": [
       "list"
      ]
     },
     "execution_count": 53,
     "metadata": {},
     "output_type": "execute_result"
    }
   ],
   "source": [
    "census = r.json()\n",
    "type(census)"
   ]
  },
  {
   "cell_type": "code",
   "execution_count": 54,
   "id": "6b16ca9b",
   "metadata": {
    "deletable": false,
    "nbgrader": {
     "cell_type": "code",
     "checksum": "86c8eb5795a4e76825e7e31ff50ee84b",
     "grade": false,
     "grade_id": "cell-087a1df3d3eb51b0",
     "locked": false,
     "schema_version": 3,
     "solution": true,
     "task": false
    }
   },
   "outputs": [
    {
     "data": {
      "text/html": [
       "<div>\n",
       "<style scoped>\n",
       "    .dataframe tbody tr th:only-of-type {\n",
       "        vertical-align: middle;\n",
       "    }\n",
       "\n",
       "    .dataframe tbody tr th {\n",
       "        vertical-align: top;\n",
       "    }\n",
       "\n",
       "    .dataframe thead th {\n",
       "        text-align: right;\n",
       "    }\n",
       "</style>\n",
       "<table border=\"1\" class=\"dataframe\">\n",
       "  <thead>\n",
       "    <tr style=\"text-align: right;\">\n",
       "      <th></th>\n",
       "      <th>NAME</th>\n",
       "      <th>B25003_001E</th>\n",
       "      <th>B25003_002E</th>\n",
       "      <th>B25003_003E</th>\n",
       "      <th>median_hh_income</th>\n",
       "      <th>state</th>\n",
       "      <th>county</th>\n",
       "      <th>tract</th>\n",
       "      <th>pct_renter</th>\n",
       "    </tr>\n",
       "  </thead>\n",
       "  <tbody>\n",
       "    <tr>\n",
       "      <th>0</th>\n",
       "      <td>Census Tract 4827.02, Los Angeles County, Cali...</td>\n",
       "      <td>802</td>\n",
       "      <td>579</td>\n",
       "      <td>223</td>\n",
       "      <td>82917.0</td>\n",
       "      <td>06</td>\n",
       "      <td>037</td>\n",
       "      <td>482702</td>\n",
       "      <td>27.805486</td>\n",
       "    </tr>\n",
       "    <tr>\n",
       "      <th>1</th>\n",
       "      <td>Census Tract 5002.01, Los Angeles County, Cali...</td>\n",
       "      <td>2209</td>\n",
       "      <td>1904</td>\n",
       "      <td>305</td>\n",
       "      <td>114831.0</td>\n",
       "      <td>06</td>\n",
       "      <td>037</td>\n",
       "      <td>500201</td>\n",
       "      <td>13.807153</td>\n",
       "    </tr>\n",
       "    <tr>\n",
       "      <th>2</th>\n",
       "      <td>Census Tract 5002.02, Los Angeles County, Cali...</td>\n",
       "      <td>1460</td>\n",
       "      <td>1293</td>\n",
       "      <td>167</td>\n",
       "      <td>133125.0</td>\n",
       "      <td>06</td>\n",
       "      <td>037</td>\n",
       "      <td>500202</td>\n",
       "      <td>11.438356</td>\n",
       "    </tr>\n",
       "    <tr>\n",
       "      <th>3</th>\n",
       "      <td>Census Tract 5003, Los Angeles County, California</td>\n",
       "      <td>1087</td>\n",
       "      <td>991</td>\n",
       "      <td>96</td>\n",
       "      <td>102875.0</td>\n",
       "      <td>06</td>\n",
       "      <td>037</td>\n",
       "      <td>500300</td>\n",
       "      <td>8.831647</td>\n",
       "    </tr>\n",
       "    <tr>\n",
       "      <th>4</th>\n",
       "      <td>Census Tract 5005, Los Angeles County, California</td>\n",
       "      <td>894</td>\n",
       "      <td>610</td>\n",
       "      <td>284</td>\n",
       "      <td>53500.0</td>\n",
       "      <td>06</td>\n",
       "      <td>037</td>\n",
       "      <td>500500</td>\n",
       "      <td>31.767338</td>\n",
       "    </tr>\n",
       "  </tbody>\n",
       "</table>\n",
       "</div>"
      ],
      "text/plain": [
       "                                                NAME B25003_001E B25003_002E  \\\n",
       "0  Census Tract 4827.02, Los Angeles County, Cali...         802         579   \n",
       "1  Census Tract 5002.01, Los Angeles County, Cali...        2209        1904   \n",
       "2  Census Tract 5002.02, Los Angeles County, Cali...        1460        1293   \n",
       "3  Census Tract 5003, Los Angeles County, California        1087         991   \n",
       "4  Census Tract 5005, Los Angeles County, California         894         610   \n",
       "\n",
       "  B25003_003E  median_hh_income state county   tract  pct_renter  \n",
       "0         223           82917.0    06    037  482702   27.805486  \n",
       "1         305          114831.0    06    037  500201   13.807153  \n",
       "2         167          133125.0    06    037  500202   11.438356  \n",
       "3          96          102875.0    06    037  500300    8.831647  \n",
       "4         284           53500.0    06    037  500500   31.767338  "
      ]
     },
     "execution_count": 54,
     "metadata": {},
     "output_type": "execute_result"
    }
   ],
   "source": [
    "censusDf = pd.DataFrame(census[1:], columns=census[0])\n",
    "censusDf['pct_renter'] = censusDf.B25003_003E.astype(int) / censusDf.B25003_001E.astype(int) * 100\n",
    "censusDf['B19013_001E'] = censusDf.B19013_001E.astype(int)\n",
    "censusDf.rename(columns = {'B19013_001E':'median_hh_income'}, inplace=True)\n",
    "\n",
    "# from Bhargav at https://stackoverflow.com/questions/74333626/converting-negative-values-in-dataframe-to-nan\n",
    "censusDf[censusDf['median_hh_income'] < 0] = np.nan\n",
    "\n",
    "censusDf.head()"
   ]
  },
  {
   "cell_type": "code",
   "execution_count": 55,
   "id": "58482987",
   "metadata": {
    "deletable": false,
    "editable": false,
    "nbgrader": {
     "cell_type": "code",
     "checksum": "585870a71cdc9a29633a4e781b14e7d5",
     "grade": true,
     "grade_id": "cell-2d674b4f0e57e6dc",
     "locked": true,
     "points": 1,
     "schema_version": 3,
     "solution": false,
     "task": false
    }
   },
   "outputs": [
    {
     "name": "stdout",
     "output_type": "stream",
     "text": [
      "2346\n",
      "53.18779120153095\n",
      "73242.84415584416\n"
     ]
    }
   ],
   "source": [
    "print (len(censusDf))\n",
    "print (censusDf.pct_renter.mean())\n",
    "print(censusDf.median_hh_income.mean())\n",
    "\n",
    "# Autograding tests - do not edit\n",
    "assert len(censusDf) == 2346\n",
    "assert censusDf.pct_renter.mean().round() == 53\n",
    "assert censusDf.median_hh_income.mean().round()==73243"
   ]
  },
  {
   "cell_type": "markdown",
   "id": "e8146828",
   "metadata": {
    "deletable": false,
    "editable": false,
    "nbgrader": {
     "cell_type": "markdown",
     "checksum": "f9a4dde04d43ed5387005fbf72c319d7",
     "grade": false,
     "grade_id": "cell-10df2e93cc4cd1f2",
     "locked": true,
     "schema_version": 3,
     "solution": false,
     "task": false
    }
   },
   "source": [
    "Create a new dataframe, `joinedDf`, with both your voting and census data, through a left join to the voting data. \n",
    "\n",
    "*Hint*: It will be easiest to join on the `tract` column (which is your index in `tractVotes`). Since everything is in LA County, you don't need to worry about the `state` or `county` fields.\n",
    "\n",
    "*Hint*: You'll need to convert the `tract` column in `censusDf` to an integer first."
   ]
  },
  {
   "cell_type": "code",
   "execution_count": 56,
   "id": "b07074c2-a0f6-4a4c-bb5d-30af0bed004f",
   "metadata": {},
   "outputs": [
    {
     "data": {
      "text/html": [
       "<div>\n",
       "<style scoped>\n",
       "    .dataframe tbody tr th:only-of-type {\n",
       "        vertical-align: middle;\n",
       "    }\n",
       "\n",
       "    .dataframe tbody tr th {\n",
       "        vertical-align: top;\n",
       "    }\n",
       "\n",
       "    .dataframe thead th {\n",
       "        text-align: right;\n",
       "    }\n",
       "</style>\n",
       "<table border=\"1\" class=\"dataframe\">\n",
       "  <thead>\n",
       "    <tr style=\"text-align: right;\">\n",
       "      <th></th>\n",
       "      <th>PR_21_N</th>\n",
       "      <th>PR_21_Y</th>\n",
       "      <th>PRSAIP01</th>\n",
       "      <th>PRSDEM01</th>\n",
       "      <th>PRSGRN01</th>\n",
       "      <th>PRSLIB01</th>\n",
       "      <th>PRSPAF01</th>\n",
       "      <th>PRSREP01</th>\n",
       "    </tr>\n",
       "    <tr>\n",
       "      <th>tract</th>\n",
       "      <th></th>\n",
       "      <th></th>\n",
       "      <th></th>\n",
       "      <th></th>\n",
       "      <th></th>\n",
       "      <th></th>\n",
       "      <th></th>\n",
       "      <th></th>\n",
       "    </tr>\n",
       "  </thead>\n",
       "  <tbody>\n",
       "    <tr>\n",
       "      <th>101110</th>\n",
       "      <td>1024.227956</td>\n",
       "      <td>857.734445</td>\n",
       "      <td>7.766703</td>\n",
       "      <td>1090.712262</td>\n",
       "      <td>6.868405</td>\n",
       "      <td>19.856228</td>\n",
       "      <td>5.053018</td>\n",
       "      <td>895.321045</td>\n",
       "    </tr>\n",
       "    <tr>\n",
       "      <th>101122</th>\n",
       "      <td>1138.460030</td>\n",
       "      <td>747.218978</td>\n",
       "      <td>6.449905</td>\n",
       "      <td>1057.143636</td>\n",
       "      <td>9.852175</td>\n",
       "      <td>21.009857</td>\n",
       "      <td>4.237346</td>\n",
       "      <td>896.821118</td>\n",
       "    </tr>\n",
       "    <tr>\n",
       "      <th>101210</th>\n",
       "      <td>714.308221</td>\n",
       "      <td>849.445489</td>\n",
       "      <td>15.399696</td>\n",
       "      <td>949.817716</td>\n",
       "      <td>7.915160</td>\n",
       "      <td>15.681777</td>\n",
       "      <td>6.831097</td>\n",
       "      <td>723.604530</td>\n",
       "    </tr>\n",
       "    <tr>\n",
       "      <th>101220</th>\n",
       "      <td>761.014272</td>\n",
       "      <td>528.747773</td>\n",
       "      <td>10.215807</td>\n",
       "      <td>747.489059</td>\n",
       "      <td>5.496622</td>\n",
       "      <td>13.538143</td>\n",
       "      <td>2.821920</td>\n",
       "      <td>604.907175</td>\n",
       "    </tr>\n",
       "    <tr>\n",
       "      <th>101300</th>\n",
       "      <td>1218.104598</td>\n",
       "      <td>796.031104</td>\n",
       "      <td>15.420898</td>\n",
       "      <td>1159.946654</td>\n",
       "      <td>8.251537</td>\n",
       "      <td>21.535832</td>\n",
       "      <td>3.829465</td>\n",
       "      <td>948.800765</td>\n",
       "    </tr>\n",
       "  </tbody>\n",
       "</table>\n",
       "</div>"
      ],
      "text/plain": [
       "            PR_21_N     PR_21_Y   PRSAIP01     PRSDEM01  PRSGRN01   PRSLIB01  \\\n",
       "tract                                                                          \n",
       "101110  1024.227956  857.734445   7.766703  1090.712262  6.868405  19.856228   \n",
       "101122  1138.460030  747.218978   6.449905  1057.143636  9.852175  21.009857   \n",
       "101210   714.308221  849.445489  15.399696   949.817716  7.915160  15.681777   \n",
       "101220   761.014272  528.747773  10.215807   747.489059  5.496622  13.538143   \n",
       "101300  1218.104598  796.031104  15.420898  1159.946654  8.251537  21.535832   \n",
       "\n",
       "        PRSPAF01    PRSREP01  \n",
       "tract                         \n",
       "101110  5.053018  895.321045  \n",
       "101122  4.237346  896.821118  \n",
       "101210  6.831097  723.604530  \n",
       "101220  2.821920  604.907175  \n",
       "101300  3.829465  948.800765  "
      ]
     },
     "execution_count": 56,
     "metadata": {},
     "output_type": "execute_result"
    }
   ],
   "source": [
    "tractVotes.head()"
   ]
  },
  {
   "cell_type": "code",
   "execution_count": 57,
   "id": "e52d03c5-90a6-46b4-ad83-6123453922f3",
   "metadata": {},
   "outputs": [
    {
     "data": {
      "text/html": [
       "<div>\n",
       "<style scoped>\n",
       "    .dataframe tbody tr th:only-of-type {\n",
       "        vertical-align: middle;\n",
       "    }\n",
       "\n",
       "    .dataframe tbody tr th {\n",
       "        vertical-align: top;\n",
       "    }\n",
       "\n",
       "    .dataframe thead th {\n",
       "        text-align: right;\n",
       "    }\n",
       "</style>\n",
       "<table border=\"1\" class=\"dataframe\">\n",
       "  <thead>\n",
       "    <tr style=\"text-align: right;\">\n",
       "      <th></th>\n",
       "      <th>NAME</th>\n",
       "      <th>B25003_001E</th>\n",
       "      <th>B25003_002E</th>\n",
       "      <th>B25003_003E</th>\n",
       "      <th>median_hh_income</th>\n",
       "      <th>state</th>\n",
       "      <th>county</th>\n",
       "      <th>tract</th>\n",
       "      <th>pct_renter</th>\n",
       "    </tr>\n",
       "  </thead>\n",
       "  <tbody>\n",
       "    <tr>\n",
       "      <th>0</th>\n",
       "      <td>Census Tract 4827.02, Los Angeles County, Cali...</td>\n",
       "      <td>802</td>\n",
       "      <td>579</td>\n",
       "      <td>223</td>\n",
       "      <td>82917.0</td>\n",
       "      <td>06</td>\n",
       "      <td>037</td>\n",
       "      <td>482702</td>\n",
       "      <td>27.805486</td>\n",
       "    </tr>\n",
       "    <tr>\n",
       "      <th>1</th>\n",
       "      <td>Census Tract 5002.01, Los Angeles County, Cali...</td>\n",
       "      <td>2209</td>\n",
       "      <td>1904</td>\n",
       "      <td>305</td>\n",
       "      <td>114831.0</td>\n",
       "      <td>06</td>\n",
       "      <td>037</td>\n",
       "      <td>500201</td>\n",
       "      <td>13.807153</td>\n",
       "    </tr>\n",
       "    <tr>\n",
       "      <th>2</th>\n",
       "      <td>Census Tract 5002.02, Los Angeles County, Cali...</td>\n",
       "      <td>1460</td>\n",
       "      <td>1293</td>\n",
       "      <td>167</td>\n",
       "      <td>133125.0</td>\n",
       "      <td>06</td>\n",
       "      <td>037</td>\n",
       "      <td>500202</td>\n",
       "      <td>11.438356</td>\n",
       "    </tr>\n",
       "    <tr>\n",
       "      <th>3</th>\n",
       "      <td>Census Tract 5003, Los Angeles County, California</td>\n",
       "      <td>1087</td>\n",
       "      <td>991</td>\n",
       "      <td>96</td>\n",
       "      <td>102875.0</td>\n",
       "      <td>06</td>\n",
       "      <td>037</td>\n",
       "      <td>500300</td>\n",
       "      <td>8.831647</td>\n",
       "    </tr>\n",
       "    <tr>\n",
       "      <th>4</th>\n",
       "      <td>Census Tract 5005, Los Angeles County, California</td>\n",
       "      <td>894</td>\n",
       "      <td>610</td>\n",
       "      <td>284</td>\n",
       "      <td>53500.0</td>\n",
       "      <td>06</td>\n",
       "      <td>037</td>\n",
       "      <td>500500</td>\n",
       "      <td>31.767338</td>\n",
       "    </tr>\n",
       "  </tbody>\n",
       "</table>\n",
       "</div>"
      ],
      "text/plain": [
       "                                                NAME B25003_001E B25003_002E  \\\n",
       "0  Census Tract 4827.02, Los Angeles County, Cali...         802         579   \n",
       "1  Census Tract 5002.01, Los Angeles County, Cali...        2209        1904   \n",
       "2  Census Tract 5002.02, Los Angeles County, Cali...        1460        1293   \n",
       "3  Census Tract 5003, Los Angeles County, California        1087         991   \n",
       "4  Census Tract 5005, Los Angeles County, California         894         610   \n",
       "\n",
       "  B25003_003E  median_hh_income state county   tract  pct_renter  \n",
       "0         223           82917.0    06    037  482702   27.805486  \n",
       "1         305          114831.0    06    037  500201   13.807153  \n",
       "2         167          133125.0    06    037  500202   11.438356  \n",
       "3          96          102875.0    06    037  500300    8.831647  \n",
       "4         284           53500.0    06    037  500500   31.767338  "
      ]
     },
     "execution_count": 57,
     "metadata": {},
     "output_type": "execute_result"
    }
   ],
   "source": [
    "censusDf.head()"
   ]
  },
  {
   "cell_type": "code",
   "execution_count": 65,
   "id": "cd78c1fd",
   "metadata": {
    "deletable": false,
    "nbgrader": {
     "cell_type": "code",
     "checksum": "27a7efd4dc74b0334d4880c59f003b8b",
     "grade": false,
     "grade_id": "cell-7826b19a96730b22",
     "locked": false,
     "schema_version": 3,
     "solution": true,
     "task": false
    }
   },
   "outputs": [],
   "source": [
    "censusDf['tract'] = censusDf['tract'].astype(float)\n",
    "joinedDf = censusDf.join(tractVotes, on='tract', how='left')"
   ]
  },
  {
   "cell_type": "code",
   "execution_count": 66,
   "id": "49062cce",
   "metadata": {
    "deletable": false,
    "editable": false,
    "nbgrader": {
     "cell_type": "code",
     "checksum": "4bf516602b49234ddd1cc63807b8acf0",
     "grade": true,
     "grade_id": "cell-1cd1c76f5b8264c9",
     "locked": true,
     "points": 1,
     "schema_version": 3,
     "solution": false,
     "task": false
    }
   },
   "outputs": [
    {
     "name": "stdout",
     "output_type": "stream",
     "text": [
      "2310\n",
      "53.18779120153095\n"
     ]
    },
    {
     "ename": "AssertionError",
     "evalue": "",
     "output_type": "error",
     "traceback": [
      "\u001b[1;31m---------------------------------------------------------------------------\u001b[0m",
      "\u001b[1;31mAssertionError\u001b[0m                            Traceback (most recent call last)",
      "Input \u001b[1;32mIn [66]\u001b[0m, in \u001b[0;36m<cell line: 5>\u001b[1;34m()\u001b[0m\n\u001b[0;32m      2\u001b[0m \u001b[38;5;28mprint\u001b[39m(joinedDf\u001b[38;5;241m.\u001b[39mpct_renter\u001b[38;5;241m.\u001b[39mmean())\n\u001b[0;32m      4\u001b[0m \u001b[38;5;66;03m# Autograding tests - do not edit\u001b[39;00m\n\u001b[1;32m----> 5\u001b[0m \u001b[38;5;28;01massert\u001b[39;00m joinedDf\u001b[38;5;241m.\u001b[39mpct_renter\u001b[38;5;241m.\u001b[39mcount() \u001b[38;5;241m==\u001b[39m \u001b[38;5;241m2318\u001b[39m\n\u001b[0;32m      6\u001b[0m \u001b[38;5;28;01massert\u001b[39;00m joinedDf\u001b[38;5;241m.\u001b[39mpct_renter\u001b[38;5;241m.\u001b[39mmean()\u001b[38;5;241m.\u001b[39mround() \u001b[38;5;241m==\u001b[39m \u001b[38;5;241m53\u001b[39m\n",
      "\u001b[1;31mAssertionError\u001b[0m: "
     ]
    }
   ],
   "source": [
    "print(joinedDf.pct_renter.count())\n",
    "print(joinedDf.pct_renter.mean())\n",
    "\n",
    "# Autograding tests - do not edit\n",
    "assert joinedDf.pct_renter.count() == 2318\n",
    "assert joinedDf.pct_renter.mean().round() == 53"
   ]
  },
  {
   "cell_type": "markdown",
   "id": "1ccab3db",
   "metadata": {
    "deletable": false,
    "editable": false,
    "nbgrader": {
     "cell_type": "markdown",
     "checksum": "abefd65bcabb67fb3b70520ad7fb4292",
     "grade": false,
     "grade_id": "cell-0473e50f37e6f3ba",
     "locked": true,
     "schema_version": 3,
     "solution": false,
     "task": false
    }
   },
   "source": [
    "Let's start with a simple random forests model with the following *x* variables:\n",
    "\n",
    "* Median HH income\n",
    "* Percent of HHs that are renters\n",
    "* Presidential vote (2-party share of Democrat voters, i.e. the percent voting for Biden vs Trump, with other candidates ignored)\n",
    "\n",
    "And the following *y* variable\n",
    "* Whether Prop 21 won (received a majority) in that census tract. This should be `True` if the Yeses got more votes than the Nos.\n",
    "\n",
    "(Yes, vote share in each tract would be better to predict rather than a binary variable - hold off on that for the challenge problem.)\n",
    "\n",
    "Create the relevant columns, `pct_biden` and `PR_21_won`, in your `joinedDf` dataframe. \n",
    "\n",
    "Then split your dataframe into a training sample (75%) and a test sample (25%). *Hint*: Drop the `NaNs` first."
   ]
  },
  {
   "cell_type": "code",
   "execution_count": 68,
   "id": "50613206-2fc9-476c-b32b-afb271e94c7b",
   "metadata": {},
   "outputs": [
    {
     "data": {
      "text/html": [
       "<div>\n",
       "<style scoped>\n",
       "    .dataframe tbody tr th:only-of-type {\n",
       "        vertical-align: middle;\n",
       "    }\n",
       "\n",
       "    .dataframe tbody tr th {\n",
       "        vertical-align: top;\n",
       "    }\n",
       "\n",
       "    .dataframe thead th {\n",
       "        text-align: right;\n",
       "    }\n",
       "</style>\n",
       "<table border=\"1\" class=\"dataframe\">\n",
       "  <thead>\n",
       "    <tr style=\"text-align: right;\">\n",
       "      <th></th>\n",
       "      <th>NAME</th>\n",
       "      <th>B25003_001E</th>\n",
       "      <th>B25003_002E</th>\n",
       "      <th>B25003_003E</th>\n",
       "      <th>median_hh_income</th>\n",
       "      <th>state</th>\n",
       "      <th>county</th>\n",
       "      <th>tract</th>\n",
       "      <th>pct_renter</th>\n",
       "      <th>PR_21_N</th>\n",
       "      <th>PR_21_Y</th>\n",
       "      <th>PRSAIP01</th>\n",
       "      <th>PRSDEM01</th>\n",
       "      <th>PRSGRN01</th>\n",
       "      <th>PRSLIB01</th>\n",
       "      <th>PRSPAF01</th>\n",
       "      <th>PRSREP01</th>\n",
       "    </tr>\n",
       "  </thead>\n",
       "  <tbody>\n",
       "    <tr>\n",
       "      <th>0</th>\n",
       "      <td>Census Tract 4827.02, Los Angeles County, Cali...</td>\n",
       "      <td>802</td>\n",
       "      <td>579</td>\n",
       "      <td>223</td>\n",
       "      <td>82917.0</td>\n",
       "      <td>06</td>\n",
       "      <td>037</td>\n",
       "      <td>482702.0</td>\n",
       "      <td>27.805486</td>\n",
       "      <td>576.49466</td>\n",
       "      <td>457.071639</td>\n",
       "      <td>3.952345</td>\n",
       "      <td>794.765594</td>\n",
       "      <td>4.100237</td>\n",
       "      <td>6.028727</td>\n",
       "      <td>5.796168</td>\n",
       "      <td>278.89605</td>\n",
       "    </tr>\n",
       "  </tbody>\n",
       "</table>\n",
       "</div>"
      ],
      "text/plain": [
       "                                                NAME B25003_001E B25003_002E  \\\n",
       "0  Census Tract 4827.02, Los Angeles County, Cali...         802         579   \n",
       "\n",
       "  B25003_003E  median_hh_income state county     tract  pct_renter    PR_21_N  \\\n",
       "0         223           82917.0    06    037  482702.0   27.805486  576.49466   \n",
       "\n",
       "      PR_21_Y  PRSAIP01    PRSDEM01  PRSGRN01  PRSLIB01  PRSPAF01   PRSREP01  \n",
       "0  457.071639  3.952345  794.765594  4.100237  6.028727  5.796168  278.89605  "
      ]
     },
     "execution_count": 68,
     "metadata": {},
     "output_type": "execute_result"
    }
   ],
   "source": [
    "joinedDf.head(1)"
   ]
  },
  {
   "cell_type": "code",
   "execution_count": 76,
   "id": "e3e2392a-aa49-46df-bb24-db2d96b1acdc",
   "metadata": {},
   "outputs": [],
   "source": [
    "joinedDf['pct_biden'] = joinedDf['PRSDEM01']/(joinedDf['PRSDEM01'] + joinedDf['PRSREP01'])*100\n",
    "joinedDf['PR_21_won'] = joinedDf['PR_21_Y'] > joinedDf['PR_21_N']"
   ]
  },
  {
   "cell_type": "code",
   "execution_count": 77,
   "id": "00189327",
   "metadata": {
    "deletable": false,
    "nbgrader": {
     "cell_type": "code",
     "checksum": "65fd2c2e8897c1b97853ab1fbbde6224",
     "grade": false,
     "grade_id": "cell-f292cd5bba490d15",
     "locked": false,
     "schema_version": 3,
     "solution": true,
     "task": false
    }
   },
   "outputs": [
    {
     "name": "stdout",
     "output_type": "stream",
     "text": [
      "1731 1731\n",
      "578 578\n"
     ]
    }
   ],
   "source": [
    "from sklearn.model_selection import train_test_split\n",
    "\n",
    "xvars = ['median_hh_income', 'pct_renter', 'pct_biden']\n",
    "yvar = 'PR_21_won'\n",
    "\n",
    "# create a dataframe with no NaNs\n",
    "df_to_fit = joinedDf[xvars+[yvar]].dropna() # explain this syntax? the plus? \n",
    "\n",
    "X_train, X_test, y_train, y_test = train_test_split(\n",
    "    df_to_fit[xvars], df_to_fit[yvar], test_size = 0.25, random_state = 1)\n",
    "\n",
    "# check we have a reasonable split\n",
    "print(len(X_train), len(y_train) )\n",
    "print(len(X_test), len(y_test) )"
   ]
  },
  {
   "cell_type": "code",
   "execution_count": 78,
   "id": "37924f00",
   "metadata": {
    "deletable": false,
    "editable": false,
    "nbgrader": {
     "cell_type": "code",
     "checksum": "b9e3f762c36076b242a09e68f1422eb9",
     "grade": true,
     "grade_id": "cell-51a28332d08e392f",
     "locked": true,
     "points": 1,
     "schema_version": 3,
     "solution": false,
     "task": false
    }
   },
   "outputs": [
    {
     "name": "stdout",
     "output_type": "stream",
     "text": [
      "1731\n",
      "578\n",
      "73.98663369941386\n",
      "0.5909878682842288\n"
     ]
    }
   ],
   "source": [
    "print(len(X_train))\n",
    "print(len(X_test))\n",
    "print(X_train.pct_biden.mean())\n",
    "print(y_train.mean())\n",
    "\n",
    "# Autograding tests - do not edit\n",
    "assert len(X_train) == 1731\n",
    "assert len(X_train.columns) == 3\n",
    "assert len(X_test) == 578\n",
    "assert len(X_train) == len(y_train)\n",
    "assert len(X_test) == len(y_test)\n",
    "assert X_train.pct_biden.mean().round() == 74\n",
    "assert y_train.mean().round(1) == 0.6\n"
   ]
  },
  {
   "cell_type": "markdown",
   "id": "e2a095a7",
   "metadata": {
    "deletable": false,
    "editable": false,
    "nbgrader": {
     "cell_type": "markdown",
     "checksum": "47be54094151a23829637bb621579c23",
     "grade": false,
     "grade_id": "cell-da525eb9a304953d",
     "locked": true,
     "schema_version": 3,
     "solution": false,
     "task": false
    }
   },
   "source": [
    "Estimate a random forests model, and assign the predicted *y* values from your *test* sample to `y_pred`."
   ]
  },
  {
   "cell_type": "code",
   "execution_count": 84,
   "id": "98afd7b7",
   "metadata": {
    "deletable": false,
    "nbgrader": {
     "cell_type": "code",
     "checksum": "20535f599ecfe005d16d51a36decb39d",
     "grade": false,
     "grade_id": "cell-18655f54613bacb6",
     "locked": false,
     "schema_version": 3,
     "solution": true,
     "task": false
    }
   },
   "outputs": [],
   "source": [
    "from sklearn.ensemble import RandomForestClassifier \n",
    "\n",
    "# initialize the random forest classifer object\n",
    "rf = RandomForestClassifier(n_estimators = 50, random_state = 1)\n",
    "\n",
    "# now fit the model\n",
    "rf.fit(X_train, y_train)\n",
    "\n",
    "y_pred = rf.predict(X_test)"
   ]
  },
  {
   "cell_type": "code",
   "execution_count": 85,
   "id": "1ba581a2",
   "metadata": {
    "deletable": false,
    "editable": false,
    "nbgrader": {
     "cell_type": "code",
     "checksum": "d3c939c242a2e2c97ac1d6beed36510e",
     "grade": true,
     "grade_id": "cell-633c221bbc5dda5e",
     "locked": true,
     "points": 1,
     "schema_version": 3,
     "solution": false,
     "task": false
    }
   },
   "outputs": [
    {
     "name": "stdout",
     "output_type": "stream",
     "text": [
      "578\n",
      "0.6280276816608996\n"
     ]
    }
   ],
   "source": [
    "print(len(y_pred))\n",
    "print(y_pred.mean())\n",
    "\n",
    "# Autograding tests - do not edit\n",
    "assert len(y_pred)==len(y_test)\n",
    "assert y_pred.mean().round(1) == 0.6"
   ]
  },
  {
   "cell_type": "markdown",
   "id": "0b4319c7",
   "metadata": {
    "deletable": false,
    "editable": false,
    "nbgrader": {
     "cell_type": "markdown",
     "checksum": "106147275ab4f5520232b7cb2f96afa5",
     "grade": false,
     "grade_id": "cell-907f10cfdc92c141",
     "locked": true,
     "schema_version": 3,
     "solution": false,
     "task": false
    }
   },
   "source": [
    "Let's look at some measures of fit. Plot the confusion matrix."
   ]
  },
  {
   "cell_type": "code",
   "execution_count": 87,
   "id": "da2c942a",
   "metadata": {
    "deletable": false,
    "nbgrader": {
     "cell_type": "code",
     "checksum": "a217f1332e891585b32e8647876c8e04",
     "grade": true,
     "grade_id": "cell-c73405d47229d9c2",
     "locked": false,
     "points": 1,
     "schema_version": 3,
     "solution": true,
     "task": false
    }
   },
   "outputs": [
    {
     "data": {
      "text/plain": [
       "<sklearn.metrics._plot.confusion_matrix.ConfusionMatrixDisplay at 0x1dfff7a0040>"
      ]
     },
     "execution_count": 87,
     "metadata": {},
     "output_type": "execute_result"
    },
    {
     "data": {
      "image/png": "[encoded data removed]",
      "text/plain": [
       "<Figure size 640x480 with 2 Axes>"
      ]
     },
     "metadata": {},
     "output_type": "display_data"
    }
   ],
   "source": [
    "# might not need all\n",
    "from sklearn.metrics import classification_report, confusion_matrix, accuracy_score, ConfusionMatrixDisplay\n",
    "\n",
    "# your code here\n",
    "ConfusionMatrixDisplay.from_predictions(y_test, y_pred)"
   ]
  },
  {
   "cell_type": "markdown",
   "id": "a5b1fb72",
   "metadata": {
    "deletable": false,
    "editable": false,
    "nbgrader": {
     "cell_type": "markdown",
     "checksum": "15f7f3d9f89db03a090c94c5d9b8e8c2",
     "grade": false,
     "grade_id": "cell-f4a7868979483ed5",
     "locked": true,
     "schema_version": 3,
     "solution": false,
     "task": false
    }
   },
   "source": [
    "Finally, plot the importance of each of the 3 predictor variables, in the same way as we did in class."
   ]
  },
  {
   "cell_type": "code",
   "execution_count": 94,
   "id": "da8efe8f",
   "metadata": {
    "deletable": false,
    "nbgrader": {
     "cell_type": "code",
     "checksum": "81d38608175af20135e30ea93a693703",
     "grade": true,
     "grade_id": "cell-6db4a17c87ddf643",
     "locked": false,
     "points": 1,
     "schema_version": 3,
     "solution": true,
     "task": false
    }
   },
   "outputs": [
    {
     "data": {
      "image/png": "[encoded data removed]",
      "text/plain": [
       "<Figure size 400x400 with 1 Axes>"
      ]
     },
     "metadata": {},
     "output_type": "display_data"
    }
   ],
   "source": [
    "# your code here\n",
    "import seaborn as sns\n",
    "import matplotlib.pyplot as plt\n",
    "\n",
    "importances = rf.feature_importances_\n",
    "\n",
    "# convert to a series, and give the index labels from our X_train dataframe\n",
    "forest_importances = pd.Series(importances, index=X_train.columns)\n",
    "\n",
    "# get the standard deviations to be able to plot the error bars\n",
    "std = np.std([tree.feature_importances_ for tree in rf.estimators_], axis=0)\n",
    "\n",
    "# sort the importances in descending order\n",
    "forest_importances.sort_values(inplace=True, ascending=False)\n",
    "\n",
    "fig, ax = plt.subplots(figsize=(4,4))\n",
    "sns.barplot(x=forest_importances.values, y=forest_importances.index, ax=ax)\n",
    "ax.set_title(\"Feature importances using MDI\")\n",
    "ax.set_ylabel(\"Mean decrease in impurity\");"
   ]
  },
  {
   "cell_type": "markdown",
   "id": "e7b82113",
   "metadata": {
    "deletable": false,
    "editable": false,
    "nbgrader": {
     "cell_type": "markdown",
     "checksum": "f372fa06efc2d9978b8beca6859f3250",
     "grade": false,
     "grade_id": "cell-0a6b521f6268911b",
     "locked": true,
     "schema_version": 3,
     "solution": false,
     "task": false
    }
   },
   "source": [
    "Comment on your interpretation of the results and the confusion matrix. What do they tell you about:\n",
    "- your predictive accuracy\n",
    "- which variables are important\n",
    "- how you might refine the model"
   ]
  },
  {
   "cell_type": "markdown",
   "id": "17b6b202",
   "metadata": {
    "deletable": false,
    "nbgrader": {
     "cell_type": "markdown",
     "checksum": "927dfce73cceaf93bb709dbc7a116b10",
     "grade": true,
     "grade_id": "cell-e2b3e80aad8c47a2",
     "locked": false,
     "points": 3,
     "schema_version": 3,
     "solution": true,
     "task": false
    }
   },
   "source": [
    "YOUR ANSWER HERE"
   ]
  },
  {
   "cell_type": "markdown",
   "id": "a61901bb",
   "metadata": {
    "deletable": false,
    "editable": false,
    "nbgrader": {
     "cell_type": "markdown",
     "checksum": "8c176d496ec3c329b1950b0336133986",
     "grade": false,
     "grade_id": "cell-ffd460ba8c5df1e3",
     "locked": true,
     "schema_version": 3,
     "solution": false,
     "task": false
    }
   },
   "source": [
    "# Challenge Problem\n",
    "Remember, you need to do at least two of these challenge problems this quarter.\n",
    "\n",
    "This challenge problem is open ended for you to take in a direction that you are most interested in. Here are some suggestions (do 1 or 2 of these):\n",
    "\n",
    "* Extend the random forests model to predict vote share on Prop 21, rather than a binary yes/no, and using additional variables. See suggestions below. \n",
    "* Use a neural network instead. How much does this improve the predictions? Use charts to compare the predictions to the random forests model.\n",
    "* Examine the geographic distribution of the predictions, through mapping the prediction errors. Where does your model perform best? Does this give you pointers as to how to improve your model?\n",
    "\n",
    "In all cases, write some brief interpretation in a markdown cell.\n",
    "\n",
    "*Predicting a continuous variable*\n",
    "\n",
    "Classification problems are typically binary or categorical - which category do you predict a given observation to fall into. In some cases, however, we might want to predict a continuous variable, such as the percentage of \"yes\" votes on Prop 21. For this we can use `RandomForestRegressor`, which works very similarly to `RandomForestClassifier`. You can follow exactly the same steps: create the `rf` object, fit the model, and predict using the test sample.\n",
    "\n",
    "How do you evaluate model performance? Since we have a continuous variable, we can't use the confusion matrix. But we can look at the absolute error (each predicted value minus the true value for each of our test precincts). I.e., `abs(y_pred-y_test)`. You can also do a scatter plot of the predicted values against the true values. The divergence from the 45 degree line is a good indication of how well the model fits."
   ]
  }
 ],
 "metadata": {
  "kernelspec": {
   "display_name": "Python 3 (ipykernel)",
   "language": "python",
   "name": "python3"
  },
  "language_info": {
   "codemirror_mode": {
    "name": "ipython",
    "version": 3
   },
   "file_extension": ".py",
   "mimetype": "text/x-python",
   "name": "python",
   "nbconvert_exporter": "python",
   "pygments_lexer": "ipython3",
   "version": "3.9.21"
  }
 },
 "nbformat": 4,
 "nbformat_minor": 5
}
